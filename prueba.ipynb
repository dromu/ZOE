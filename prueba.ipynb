{
 "cells": [
  {
   "cell_type": "code",
   "execution_count": 337,
   "metadata": {},
   "outputs": [],
   "source": [
    "import math\n",
    "import cv2\n",
    "import matplotlib.pyplot as plt\n",
    "import numpy as np"
   ]
  },
  {
   "cell_type": "code",
   "execution_count": 490,
   "metadata": {},
   "outputs": [
    {
     "name": "stdout",
     "output_type": "stream",
     "text": [
      "(1000, 1000, 3)\n"
     ]
    },
    {
     "data": {
      "text/plain": [
       "(-0.5, 204.5, 179.5, -0.5)"
      ]
     },
     "execution_count": 490,
     "metadata": {},
     "output_type": "execute_result"
    },
    {
     "data": {
      "image/png": "[encoded data removed]",
      "text/plain": [
       "<Figure size 432x288 with 1 Axes>"
      ]
     },
     "metadata": {
      "needs_background": "light"
     },
     "output_type": "display_data"
    }
   ],
   "source": [
    "# cargar imagen \n",
    "\n",
    "frame = cv2.imread(r\"images\\rojo.jpg\")\n",
    "frame = cv2.cvtColor(frame, cv2.COLOR_BGR2RGB)\n",
    "\n",
    "print(frame.shape)\n",
    "plt.imshow(frame)\n",
    "plt.axis(\"off\")\n",
    "\n",
    "# lectura archivo de coordenadas\n",
    "with open(\"img_tools\\position.dat\", 'r') as archivo:\n",
    "    coordenadas  = archivo.read()\n",
    "# Procesar o imprimir el contenido según sea necesario\n",
    "\n",
    "coordenadas = eval(coordenadas)\n",
    "\n",
    "coordenada1, coordenada2 = coordenadas\n",
    "x1, y1 = coordenada1\n",
    "x2, y2 = coordenada2\n",
    "\n",
    "#Seleccion de region de interes\n",
    "imgROI = frame[y1:y2, x1:x2,:]\n",
    "img2 = imgROI.copy()\n",
    "\n",
    "plt.imshow(imgROI)\n",
    "plt.axis(\"off\")\n"
   ]
  },
  {
   "cell_type": "code",
   "execution_count": 491,
   "metadata": {},
   "outputs": [
    {
     "name": "stdout",
     "output_type": "stream",
     "text": [
      "Valor H: 68.0\n"
     ]
    }
   ],
   "source": [
    "imgHSV = cv2.cvtColor(img2, cv2.COLOR_RGB2HSV )\n",
    "\n",
    "\n",
    "datoH = imgHSV[:,:,0].mean()   \n",
    "datoH = datoH *2\n",
    "\n",
    "\n",
    "print(\"Valor H:\", round(datoH))\n"
   ]
  },
  {
   "cell_type": "code",
   "execution_count": 492,
   "metadata": {},
   "outputs": [
    {
     "name": "stdout",
     "output_type": "stream",
     "text": [
      "R: 0.8549019607843138 G: 1.0 B: 0.00392156862745098\n",
      "Valor inicial de H:  68\n",
      "Color complementario:  248\n"
     ]
    }
   ],
   "source": [
    "from math import radians, degrees\n",
    "\n",
    "R = (imgROI[:,:,0]/255).mean()\n",
    "G = (imgROI[:,:,1]/255).mean()\n",
    "B = (imgROI[:,:,2]/255).mean()\n",
    "\n",
    "# R = (imgROI[:,:,0]).mean()\n",
    "# G = (imgROI[:,:,1]).mean()\n",
    "# B = (imgROI[:,:,2]).mean()\n",
    "\n",
    "print(\"R:\", R, \"G:\", G, \"B:\", B)\n",
    "# print(\"R: \",round(R*255), \"G: \", round(G*255), \"B: \", round(B*255))\n",
    "\n",
    "\n",
    "num = 0.5*((R-G) + (R-B))\n",
    "den = ((R-G)**2 + (R-B)*(G-B))**0.5\n",
    "\n",
    "\n",
    "H = degrees(np.arccos(num/den))\n",
    "H = round(H)\n",
    "\n",
    "\n",
    "if  B>G:\n",
    "    H =  360 -H\n",
    "\n",
    "print(\"Valor inicial de H: \", H)\n",
    "\n",
    "if H>=0 and H<=180:\n",
    "    Hcomp = H + 180\n",
    "else:\n",
    "    Hcomp = H - 180\n",
    "\n",
    "if Hcomp == 360:\n",
    "    Hcomp = 0\n",
    "\n",
    "\n",
    "\n",
    "print(\"Color complementario: \", Hcomp)"
   ]
  },
  {
   "cell_type": "code",
   "execution_count": 494,
   "metadata": {},
   "outputs": [
    {
     "name": "stdout",
     "output_type": "stream",
     "text": [
      "0.8549019607843138 1.0 0.00392156862745098\n",
      "RGB complementario R: 1.996078431372549 G: 0 B: 2.6084619688405244\n",
      "RGB complementario R: 170.0 G: 0 B: 222.0\n"
     ]
    }
   ],
   "source": [
    "I = 1\n",
    "S = 1\n",
    "\n",
    "dato = Hcomp\n",
    "\n",
    "print(R, G, B)\n",
    "\n",
    "if  dato>= 0 and dato < 120: \n",
    "    R_ = I*( 1+ ( (S*np.cos( radians(dato)  ) ) / np.cos( radians(60-dato)  )))\n",
    "    G_ = 3*I - (R+B)\n",
    "    B_ = I*(1-S)\n",
    "\n",
    "elif dato >= 120 and dato <240:\n",
    "    R_ = I*(1-S)\n",
    "    G_ = I * ( 1 + (S* np.cos(radians(dato-120)  )) / ( np.cos(radians(180-dato))  ))\n",
    "    B_ = 3*I - (R+G)\n",
    "\n",
    "elif dato >= 240 and dato <360:\n",
    "    R_ = 3*I - (B+G)\n",
    "    G_ = I*(1-S)\n",
    "    B_ = I*(1 + (  (S * np.cos(radians(dato-240)  ) ) / ( np.cos(radians(300-dato))) ))\n",
    "\n",
    "print(\"RGB complementario\", \"R:\", R_,\"G:\", G_, \"B:\", B_)\n",
    "\n",
    "\n",
    "def maximoValor(R,G,B):\n",
    "    dato = [R,G,B]\n",
    "    return max(dato)\n",
    "\n",
    "maxValue = maximoValor(R_,G_,B_)\n",
    "\n",
    "\n",
    "\n",
    "R_ = (R_/3)*255\n",
    "G_ = (G_/3)*255\n",
    "B_ = (B_/3)*255\n",
    "\n",
    "\n",
    "R_ = round(min(255, max(0, R_)))\n",
    "G_ = round(min(255, max(0, G_)))\n",
    "B_ = round(min(255, max(0, B_)))\n",
    "\n",
    "\n",
    "\n",
    "print(\"RGB complementario\", \"R:\", R_,\"G:\", G_, \"B:\", B_)\n",
    "\n"
   ]
  },
  {
   "cell_type": "code",
   "execution_count": 487,
   "metadata": {},
   "outputs": [
    {
     "name": "stderr",
     "output_type": "stream",
     "text": [
      "No handles with labels found to put in legend.\n"
     ]
    },
    {
     "data": {
      "image/png": "[encoded data removed]",
      "text/plain": [
       "<Figure size 432x288 with 1 Axes>"
      ]
     },
     "metadata": {
      "needs_background": "light"
     },
     "output_type": "display_data"
    }
   ],
   "source": [
    "import numpy as np\n",
    "import matplotlib.pyplot as plt\n",
    "from numpy import radians\n",
    "\n",
    "# Definir la ecuación\n",
    "def calcular_G(I, S, X):\n",
    "    dato = X\n",
    "    # return I * (1 + (S * np.cos(radians(X-120))) / (np.cos(radians(180-X))))\n",
    "\n",
    "    return I*(1 + (  (S * np.cos(radians(dato-240)  ) ) / ( np.cos(radians(300-dato))) ))\n",
    "\n",
    "# Valores de prueba\n",
    "I = 1.0\n",
    "S = 1\n",
    "X_valores = np.arange(240, 360, 1)  # Cambiado a valores entre 120 y 239\n",
    "\n",
    "# Calcular los valores de G'\n",
    "G_valores = calcular_G(I, S, X_valores)\n",
    "\n",
    "# Crear el gráfico\n",
    "plt.scatter(X_valores, G_valores)\n",
    "plt.title('Gráfico de la ecuación')\n",
    "plt.xlabel('X (grados)')\n",
    "\n",
    "plt.legend()\n",
    "plt.grid(True)\n",
    "plt.show()\n"
   ]
  },
  {
   "cell_type": "code",
   "execution_count": 432,
   "metadata": {},
   "outputs": [
    {
     "name": "stdout",
     "output_type": "stream",
     "text": [
      "(120,)\n"
     ]
    }
   ],
   "source": [
    "print(X_valores.shape)"
   ]
  },
  {
   "cell_type": "code",
   "execution_count": 29,
   "metadata": {},
   "outputs": [
    {
     "name": "stdout",
     "output_type": "stream",
     "text": [
      "113.27938728299625 113.27938728299625\n"
     ]
    },
    {
     "data": {
      "image/png": "[encoded data removed]",
      "text/plain": [
       "<Figure size 432x288 with 1 Axes>"
      ]
     },
     "metadata": {
      "needs_background": "light"
     },
     "output_type": "display_data"
    }
   ],
   "source": [
    "Hcomp = H + sumaAng\n",
    "plt.imshow(Hcomp, cmap=\"hsv\")\n",
    "print(np.amax(Hcomp), np.amin(Hcomp))"
   ]
  },
  {
   "cell_type": "code",
   "execution_count": 30,
   "metadata": {},
   "outputs": [
    {
     "name": "stderr",
     "output_type": "stream",
     "text": [
      "Clipping input data to the valid range for imshow with RGB data ([0..1] for floats or [0..255] for integers).\n"
     ]
    },
    {
     "name": "stdout",
     "output_type": "stream",
     "text": [
      "2.231372549019608\n",
      "0.0\n"
     ]
    },
    {
     "data": {
      "text/plain": [
       "<matplotlib.image.AxesImage at 0x1b3efd19c88>"
      ]
     },
     "execution_count": 30,
     "metadata": {},
     "output_type": "execute_result"
    },
    {
     "data": {
      "image/png": "[encoded data removed]",
      "text/plain": [
       "<Figure size 432x288 with 1 Axes>"
      ]
     },
     "metadata": {
      "needs_background": "light"
     },
     "output_type": "display_data"
    }
   ],
   "source": [
    "# transofrmacion del espacio hsv a rgb\n",
    "from math import degrees, radians\n",
    "\n",
    "imgRGB = np.zeros([tamX,tamY,3])\n",
    "\n",
    "R_ = np.zeros([tamX,tamY])\n",
    "G_ = np.zeros([tamX,tamY])\n",
    "B_ = np.zeros([tamX,tamY])\n",
    "\n",
    "I = 1\n",
    "S = 1\n",
    "\n",
    "for i in range(0,tamX):\n",
    "    for j in range(0,tamY):\n",
    "\n",
    "        dato = Hcomp[i,j]\n",
    "        R = imgROI[i,j,0]/255\n",
    "        G = imgROI[i,j,1]/255\n",
    "        B = imgROI[i,j,2]/255\n",
    "\n",
    "        if  dato < 120: \n",
    "            R_ = I*( 1+ ( (S*np.cos(  radians(dato)  ) ) / np.cos( radians(60-dato)  )))\n",
    "            G_ = 3*I - (R+B)\n",
    "            B_ = I*(1-S)\n",
    "\n",
    "        elif dato >= 120 and dato <240:\n",
    "            R_ = I*(1-S)\n",
    "            G_ = I * ( 1 + (S* np.cos(radians(dato-120)  )) / ( np.cos(radians(180-dato))  ))\n",
    "            B_ = 3*I - (R+G)\n",
    "\n",
    "        elif dato >= 240 and dato <360:\n",
    "            R_ = 3*I - (B+G)\n",
    "            G_ = I*(1-S)\n",
    "            B_ = I*(1 + (  (S + np.cos(radians(dato-240)  ) ) / ( np.cos(radians(300-dato))) ))\n",
    "\n",
    "        imgRGB[i,j,0] = R_\n",
    "        imgRGB[i,j,1] = G_\n",
    "        imgRGB[i,j,2] = B_\n",
    "\n",
    "print(np.amax(imgRGB))\n",
    "print(np.amin(imgRGB))\n",
    "\n",
    "plt.imshow(imgRGB)"
   ]
  },
  {
   "cell_type": "code",
   "execution_count": 67,
   "metadata": {},
   "outputs": [
    {
     "name": "stdout",
     "output_type": "stream",
     "text": [
      "242.82745442565343\n"
     ]
    }
   ],
   "source": [
    "print(Hcomp.mean())"
   ]
  },
  {
   "cell_type": "code",
   "execution_count": 66,
   "metadata": {},
   "outputs": [
    {
     "name": "stdout",
     "output_type": "stream",
     "text": [
      "ROJO:  1.8549019607843138\n",
      "VERDE:  0.0\n",
      "AZUL:  4.3108946686063465\n"
     ]
    }
   ],
   "source": [
    "print(\"ROJO: \", imgRGB[i,j,0].mean())\n",
    "print(\"VERDE: \", imgRGB[i,j,1].mean())\n",
    "print(\"AZUL: \", imgRGB[i,j,2].mean())"
   ]
  },
  {
   "cell_type": "code",
   "execution_count": 13,
   "metadata": {},
   "outputs": [
    {
     "name": "stdout",
     "output_type": "stream",
     "text": [
      "128.63912217494257\n"
     ]
    }
   ],
   "source": [
    "from math import degrees\n",
    "R = 100\n",
    "G = 125\n",
    "B = 255\n",
    "\n",
    "num = 0.5*((R-G) + (R-B))\n",
    "den = math.sqrt((R-G)**2 + (R-B)*(G-B))\n",
    "H = degrees(np.arccos(num/den))\n",
    "\n",
    "print(H)"
   ]
  },
  {
   "cell_type": "code",
   "execution_count": null,
   "metadata": {},
   "outputs": [
    {
     "data": {
      "text/plain": [
       "(-0.5, 204.5, 179.5, -0.5)"
      ]
     },
     "metadata": {},
     "output_type": "display_data"
    },
    {
     "data": {
      "image/png": "[encoded data removed]",
      "text/plain": [
       "<Figure size 432x288 with 1 Axes>"
      ]
     },
     "metadata": {},
     "output_type": "display_data"
    }
   ],
   "source": [
    "# lectura archivo de coordenadas\n",
    "with open(\"img_tools\\position.dat\", 'r') as archivo:\n",
    "    coordenadas  = archivo.read()\n",
    "# Procesar o imprimir el contenido según sea necesario\n",
    "\n",
    "coordenadas = eval(coordenadas)\n",
    "\n",
    "coordenada1, coordenada2 = coordenadas\n",
    "x1, y1 = coordenada1\n",
    "x2, y2 = coordenada2\n",
    "\n",
    "#Seleccion de region de interes\n",
    "imgROI = frame[y1:y2, x1:x2,:]\n",
    "img2 = imgROI.copy()\n",
    "\n",
    "plt.imshow(imgROI)\n",
    "plt.axis(\"off\")\n",
    "\n",
    "print(imgROI.shape)\n",
    "\n",
    "tamX, tamY, _ = imgROI.shape\n",
    "\n",
    "# Contenedor donde se almacena el cambio de espacio\n",
    "H = np.zeros([tamX,tamY], dtype = int)\n",
    "Hcomp = np.zeros([tamX,tamY], dtype=int)\n",
    "\n",
    "\n",
    "#Transformacion al espacio HSV\n",
    "\n",
    "for i in range(0,tamX):\n",
    "    for j in range(0,tamY):\n",
    "        R = imgROI[i,j,0]/255\n",
    "        G = imgROI[i,j,1]/255\n",
    "        B = imgROI[i,j,2]/255\n",
    "\n",
    "        num = 0.5*((R-G) + (R-B))\n",
    "        den = math.sqrt((R-G)**2 + (R-B)*(G-B))\n",
    "        \n",
    "        if num == 0 and den == 0:\n",
    "            dato = 0\n",
    "\n",
    "        else:\n",
    "            dato = math.degrees(math.acos(num/den))\n",
    "            dato = dato\n",
    "\n",
    "        if B>G:\n",
    "            if dato > 180:\n",
    "                dato = dato-360  \n",
    " \n",
    "        H[i,j] = dato\n",
    "\n",
    "print(\"valor de H:\", round(H.mean()))\n",
    "        "
   ]
  },
  {
   "cell_type": "code",
   "execution_count": 1,
   "metadata": {},
   "outputs": [
    {
     "name": "stdout",
     "output_type": "stream",
     "text": [
      "012\n"
     ]
    }
   ],
   "source": [
    "numero = 12\n",
    "cadena_formateada = str(numero).zfill(3)\n",
    "print(cadena_formateada)\n"
   ]
  },
  {
   "cell_type": "code",
   "execution_count": 3,
   "metadata": {},
   "outputs": [
    {
     "ename": "",
     "evalue": "",
     "output_type": "error",
     "traceback": [
      "\u001b[1;31mThe Kernel crashed while executing code in the the current cell or a previous cell. Please review the code in the cell(s) to identify a possible cause of the failure. Click <a href='https://aka.ms/vscodeJupyterKernelCrash'>here</a> for more info. View Jupyter <a href='command:jupyter.viewOutput'>log</a> for further details."
     ]
    }
   ],
   "source": [
    "import sys\n",
    "from PyQt5.QtWidgets import QApplication, QWidget, QLabel, QVBoxLayout, QPushButton, QTextEdit, QFileDialog\n",
    "from PyQt5.QtGui import QImage, QPixmap\n",
    "import cv2\n",
    "import numpy as np\n",
    "import pydicom\n",
    "from PyQt5.QtCore import Qt\n",
    "from yQt5 import QtCore\n",
    "\n",
    "\n",
    "class DICOMEditor(QWidget):\n",
    "    def __init__(self):\n",
    "        super().__init__()\n",
    "\n",
    "        self.init_ui()\n",
    "\n",
    "    def init_ui(self):\n",
    "        self.setWindowTitle('DICOM Editor')\n",
    "\n",
    "        self.image_label = QLabel(self)\n",
    "        self.image_label.setAlignment(QtCore.Qt.AlignCenter)\n",
    "        self.image_label.setMinimumSize(400, 400)\n",
    "\n",
    "        self.note_textedit = QTextEdit(self)\n",
    "        self.note_textedit.setPlaceholderText(\"Agregar nota aquí\")\n",
    "\n",
    "        load_save_button = QPushButton('Cargar / Guardar DICOM', self)\n",
    "        load_save_button.clicked.connect(self.load_or_save_dicom)\n",
    "\n",
    "        layout = QVBoxLayout()\n",
    "        layout.addWidget(load_save_button)\n",
    "        layout.addWidget(self.image_label)\n",
    "        layout.addWidget(self.note_textedit)\n",
    "\n",
    "        self.setLayout(layout)\n",
    "\n",
    "    def load_or_save_dicom(self):\n",
    "        options = QFileDialog.Options()\n",
    "        options |= QFileDialog.DontUseNativeDialog\n",
    "\n",
    "        file_path, _ = QFileDialog.getOpenFileName(self, \"Seleccionar Imagen o Guardar como DICOM\", \"\", \"Imágenes (*.png *.jpg *.bmp);;Archivos DICOM (*.dcm);;Todos los archivos (*)\", options=options)\n",
    "\n",
    "        if file_path:\n",
    "            if file_path.lower().endswith(('.png', '.jpg', '.bmp')):\n",
    "                # Cargar imagen\n",
    "                image = cv2.imread(file_path, cv2.IMREAD_GRAYSCALE)\n",
    "                self.display_image(image)\n",
    "            elif file_path.lower().endswith('.dcm'):\n",
    "                # Guardar como DICOM\n",
    "                note = self.note_textedit.toPlainText()\n",
    "                if not note:\n",
    "                    note = \"Sin nota\"\n",
    "\n",
    "                dataset = pydicom.Dataset()\n",
    "                dataset.PatientName = \"Nombre del Paciente\"\n",
    "                dataset.PatientID = \"ID del Paciente\"\n",
    "                dataset.Modality = \"OTRA\"\n",
    "                dataset.OtherPatientIDs = note\n",
    "\n",
    "                image_numpy = np.array(image)\n",
    "                dataset.PixelData = image_numpy.tobytes()\n",
    "                dataset.Rows, dataset.Columns = image_numpy.shape\n",
    "                dataset.BitsAllocated = image_numpy.dtype.itemsize * 8\n",
    "                dataset.SamplesPerPixel = 1\n",
    "                dataset.BitsStored = image_numpy.dtype.itemsize * 8\n",
    "                dataset.HighBit = image_numpy.dtype.itemsize * 8 - 1\n",
    "                dataset.PixelRepresentation = 0\n",
    "\n",
    "                dataset.save_as(file_path)\n",
    "\n",
    "    def display_image(self, image):\n",
    "        if image is not None:\n",
    "            height, width = image.shape\n",
    "            bytes_per_line = 1 * width\n",
    "            q_image = QImage(image.data, width, height, bytes_per_line, QImage.Format_Grayscale8)\n",
    "            pixmap = QPixmap.fromImage(q_image)\n",
    "            self.image_label.setPixmap(pixmap)\n",
    "\n",
    "if __name__ == '__main__':\n",
    "    app = QApplication(sys.argv)\n",
    "    editor = DICOMEditor()\n",
    "    editor.show()\n",
    "    sys.exit(app.exec_())\n"
   ]
  }
 ],
 "metadata": {
  "kernelspec": {
   "display_name": "entornoGPU",
   "language": "python",
   "name": "entornogpu"
  },
  "language_info": {
   "codemirror_mode": {
    "name": "ipython",
    "version": 3
   },
   "file_extension": ".py",
   "mimetype": "text/x-python",
   "name": "python",
   "nbconvert_exporter": "python",
   "pygments_lexer": "ipython3",
   "version": "3.7.7"
  }
 },
 "nbformat": 4,
 "nbformat_minor": 2
}
